{
  "cells": [
    {
      "cell_type": "code",
      "execution_count": 2,
      "metadata": {
        "colab": {
          "base_uri": "https://localhost:8080/"
        },
        "id": "5VaQf4YjwpZy",
        "outputId": "5dd204fa-9bbc-403e-e945-024fcd4ad97e"
      },
      "outputs": [
        {
          "name": "stdout",
          "output_type": "stream",
          "text": [
            "--2023-04-28 16:48:50--  https://www.cs.toronto.edu/~kriz/cifar-10-python.tar.gz\n",
            "Resolving www.cs.toronto.edu (www.cs.toronto.edu)... 128.100.3.30\n",
            "Connecting to www.cs.toronto.edu (www.cs.toronto.edu)|128.100.3.30|:443... connected.\n",
            "HTTP request sent, awaiting response... 200 OK\n",
            "Length: 170498071 (163M) [application/x-gzip]\n",
            "Saving to: ‘cifar-10-python.tar.gz.1’\n",
            "\n",
            "cifar-10-python.tar 100%[===================>] 162.60M  82.9MB/s    in 2.0s    \n",
            "\n",
            "2023-04-28 16:48:53 (82.9 MB/s) - ‘cifar-10-python.tar.gz.1’ saved [170498071/170498071]\n",
            "\n",
            "cifar-10-batches-py/\n",
            "cifar-10-batches-py/data_batch_4\n",
            "cifar-10-batches-py/readme.html\n",
            "cifar-10-batches-py/test_batch\n",
            "cifar-10-batches-py/data_batch_3\n",
            "cifar-10-batches-py/batches.meta\n",
            "cifar-10-batches-py/data_batch_2\n",
            "cifar-10-batches-py/data_batch_5\n",
            "cifar-10-batches-py/data_batch_1\n"
          ]
        }
      ],
      "source": [
        "### DOWNLOAD AND UNZIP DATASET\n",
        "!wget https://www.cs.toronto.edu/~kriz/cifar-10-python.tar.gz\n",
        "!tar xvzf cifar-10-python.tar.gz"
      ]
    },
    {
      "cell_type": "code",
      "execution_count": 52,
      "metadata": {
        "id": "pjVuYbGewSaQ"
      },
      "outputs": [],
      "source": [
        "### IMPORTANT RELEVANT LIBRARIES\n",
        "import os\n",
        "import pickle\n",
        "import itertools\n",
        "import numpy as np\n",
        "from math import ceil\n",
        "import matplotlib.pyplot as plt\n",
        "from tqdm import tqdm"
      ]
    },
    {
      "cell_type": "code",
      "execution_count": 53,
      "metadata": {
        "id": "GQ2rX4Kzxiig"
      },
      "outputs": [],
      "source": [
        "classes = ('plane', 'car', 'bird', 'cat',\n",
        "           'deer', 'dog', 'frog', 'horse', 'ship', 'truck')"
      ]
    },
    {
      "cell_type": "code",
      "execution_count": 3,
      "metadata": {
        "id": "xVPLdDOtxWaT"
      },
      "outputs": [],
      "source": [
        "### DATA UTILITIES\n",
        "def unpickle(file):\n",
        "    with open(file, \"rb\") as fo:\n",
        "        dict = pickle.load(fo, encoding=\"bytes\")\n",
        "    return dict    \n",
        "\n",
        "class Dataset:\n",
        "    def __init__(self, filepath, batch_size=32, sample_interval=1):\n",
        "        \n",
        "        self.filepath = filepath\n",
        "        self.batch_size = batch_size\n",
        "        \n",
        "        all_files = os.listdir(self.filepath)\n",
        "        \n",
        "        train_files = [os.path.join(self.filepath, file) for file in all_files if file[:4] == \"data\"]\n",
        "        test_files = [os.path.join(self.filepath, file) for file in all_files if file[:4] == \"test\"]\n",
        "        \n",
        "        train_dict = [unpickle(train_file) for train_file in train_files]\n",
        "        test_dict = [unpickle(test_file) for test_file in test_files]\n",
        "        \n",
        "        train_X_list = [data_dict[b\"data\"] for data_dict in train_dict]\n",
        "        train_y_list = [data_dict[b\"labels\"] for data_dict in train_dict]\n",
        "        test_X_list = [data_dict[b\"data\"] for data_dict in test_dict]\n",
        "        test_y_list = [data_dict[b\"labels\"] for data_dict in test_dict]\n",
        "        \n",
        "        self.X_train = np.vstack(train_X_list)[0:-1:sample_interval, :]\n",
        "        self.X_test = np.vstack(test_X_list)[0:-1:sample_interval, :]\n",
        "        self.y_train = np.array(list(itertools.chain(*train_y_list)))[0:-1:sample_interval]\n",
        "        self.y_test = np.array(list(itertools.chain(*test_y_list)))[0:-1:sample_interval]\n",
        "        \n",
        "        self.num_train_samples, self.num_test_samples = self.X_train.shape[0], self.X_test.shape[0]\n",
        "        \n",
        "        self.num_train_batches =  ceil(self.num_train_samples/self.batch_size)\n",
        "        self.num_test_batches = ceil(self.num_test_samples/self.batch_size )\n",
        "        \n",
        "        self.train_mean, self.train_std = np.mean(self.X_train, axis=0), np.std(self.X_train, axis=0)\n",
        "\n",
        "    def visualize(self, idx):\n",
        "        plt.imshow(np.moveaxis(self.X_train[idx].reshape((3,32,32)), source=0, destination=-1))\n",
        "        plt.title(classes[self.y_train[idx]])\n",
        "        plt.show()\n",
        "\n",
        "    def train_batch(self, batch_idx):\n",
        "        start_idx = batch_idx * self.batch_size\n",
        "        end_idx = min((batch_idx+1)*self.batch_size, self.num_train_samples)\n",
        "        X, y = self.X_train[start_idx:end_idx, :], self.y_train[start_idx:end_idx]\n",
        "        X = (X-self.train_mean)/self.train_std ### BATCH_SIZE * (H*W*C)\n",
        "        X = X.reshape((-1, 3, 32, 32)) ## BATCH_SIZE * C * H * W\n",
        "        return X, y\n",
        "    \n",
        "    def test_batch(self, batch_idx):\n",
        "        start_idx = batch_idx * self.batch_size\n",
        "        end_idx = min((batch_idx+1)*self.batch_size, self.num_test_samples)\n",
        "        X, y = self.X_test[start_idx:end_idx, :], self.y_test[start_idx:end_idx]\n",
        "        X = (X - self.train_mean)/self.train_std ## BATCH_SIZE * (H*W*C)\n",
        "        X = X.reshape((-1, 3, 32, 32)) ## BATCH_SIZE * C * H * W\n",
        "        return X, y"
      ]
    },
    {
      "cell_type": "code",
      "execution_count": 56,
      "metadata": {
        "id": "4u62k81AxkX9"
      },
      "outputs": [],
      "source": [
        "### OPTIMIZER\n",
        "class AdamOptimizer():\n",
        "    \n",
        "    def __init__(self, shape, alpha, beta1=0.9, beta2=0.99, eps=1e-8): \n",
        "        self.alpha = alpha\n",
        "        self.beta1 = beta1\n",
        "        self.beta2 = beta2\n",
        "        self.eps = eps\n",
        "        self.num_updates = 0\n",
        "        self.v_dw = np.zeros(shape)\n",
        "        self.s_dw = np.zeros(shape)\n",
        "        \n",
        "    def update(self, w, w_grad, printing=False):\n",
        "        \n",
        "        self.num_updates += 1\n",
        "        \n",
        "        self.v_dw = self.beta1 * self.v_dw + (1-self.beta1)*w_grad\n",
        "        self.s_dw = self.beta2 * self.s_dw + (1-self.beta2)*(w_grad ** 2)\n",
        "        \n",
        "        v_dw_correct = self.v_dw / (1-(self.beta1**self.num_updates))\n",
        "        s_dw_correct = self.s_dw / (1-(self.beta2**self.num_updates))\n",
        "        if(printing):\n",
        "            print(self.alpha * (v_dw_correct / (np.sqrt(s_dw_correct) + self.eps)))\n",
        "        return w - self.alpha * (v_dw_correct / (np.sqrt(s_dw_correct) + self.eps) )"
      ]
    },
    {
      "cell_type": "code",
      "execution_count": 61,
      "metadata": {
        "id": "Yw19Aydkxkej"
      },
      "outputs": [],
      "source": [
        "class Linear:\n",
        "    \n",
        "    def __init__(self, in_features, out_features, learning_rate):\n",
        "       \n",
        "        self.in_features, self.out_features = in_features, out_features\n",
        "        self.W = np.random.uniform(low=-0.1, high=+0.1, size=(in_features, out_features))\n",
        "        self.b = np.zeros(shape=(out_features,))\n",
        "        self.learning_rate = learning_rate\n",
        "        self.W_optimizer = AdamOptimizer(shape=self.W.shape, alpha=learning_rate)\n",
        "        self.b_optimizer = AdamOptimizer(shape=self.b.shape, alpha=learning_rate)\n",
        "        \n",
        "    def forward(self, X):\n",
        "        ### X is M * D_in\n",
        "        ## X.W + b ===> X (M * D_IN ) . W (D_IN * D_OUT) + b (D_out)\n",
        "        self.cache_X = X\n",
        "        return np.matmul(X, self.W) + self.b\n",
        "\n",
        "    def backward(self, delY):\n",
        "        ### delY => M * D_out\n",
        "        ### each term is the gradient of the scalar loss wrt the corresponding element in the input\n",
        "        self.W_grad = np.matmul(self.cache_X.T, delY)\n",
        "        self.b_grad = np.sum(delY, axis=0)\n",
        "        delX = np.matmul(delY, self.W.T)\n",
        "        return delX\n",
        "    \n",
        "    def update(self):\n",
        "        \n",
        "        self.W = self.W_optimizer.update(self.W, self.W_grad)\n",
        "        self.b = self.b_optimizer.update(self.b, self.b_grad)\n",
        "    \n",
        "class ReLU:\n",
        "    def __init_(self):\n",
        "        pass\n",
        "    \n",
        "    def forward(self, X):\n",
        "        ## Y = ReLU(X)\n",
        "        self.X_cache = X\n",
        "        return np.maximum(X, 0)\n",
        "    \n",
        "    def backward(self, delY):\n",
        "        return np.where(self.X_cache >= 0, 1, 0) * delY\n",
        "    \n",
        "class SoftMax:\n",
        "    def __init__(self):\n",
        "        pass\n",
        "    \n",
        "    def forward(self, X):\n",
        "        ## Y = softmax(X) || X => M * NUM_CLASSES\n",
        "        self.X_cache = X\n",
        "        denominator = np.sum(np.exp(X), axis=1, keepdims=True) ## M, 1\n",
        "        self.prob_X_cache =  np.exp(X) / denominator\n",
        "        return self.prob_X_cache\n",
        "    \n",
        "    def backward(self, delY):\n",
        "        ### Y is M * NUM_CLASSES\n",
        "        self.ans = np.zeros(shape=(self.X_cache.shape))\n",
        "        for sample_idx in range(self.X_cache.shape[0]):\n",
        "            prob = self.prob_X_cache[sample_idx] ### probabilities for this data point ||| (NUM_CLASSES, )\n",
        "            A = np.diag(prob) - np.matmul(prob.reshape((-1,1)), prob.reshape(1, -1))\n",
        "            self.ans[sample_idx] =  np.matmul(delY[sample_idx, :].reshape(1, -1), A).reshape(-1)\n",
        "        return self.ans\n",
        "        \n",
        "class Flatten():\n",
        "    def __init__(self):\n",
        "        pass\n",
        "    def forward(self, X):\n",
        "        ## X => B * C * H * W\n",
        "        ## Y => B * (C*H*W)\n",
        "        self.cache = X.shape\n",
        "        return X.reshape((X.shape[0], -1)) \n",
        "    def backward(self, delY):\n",
        "        ## delY => B * (C*H*W) || delX => B * C * H * W \n",
        "        return delY.reshape(self.cache)\n",
        "    \n",
        "class MaxPool2D():\n",
        "    \n",
        "    def __init__(self, kernel_size=2, stride=2):\n",
        "        self.kernel_size = kernel_size\n",
        "        self.stride = stride\n",
        "        \n",
        "    def forward_helper(self, h, w, X):\n",
        "        (N, C_in, H_in, W_in) = X.shape\n",
        "        h_start, h_end = h * self.stride, h * self.stride + self.kernel_size\n",
        "        w_start, w_end = w * self.stride, w * self.stride + self.kernel_size\n",
        "        input_slice = X[:, :, h_start:h_end, w_start:w_end]\n",
        "        return np.expand_dims(np.max(input_slice.reshape(N, C_in, -1), axis=2), axis=2)\n",
        "        \n",
        "    def forward(self, X):\n",
        "        ## X ==> N * C * H * W\n",
        "        (N, C_in, H_in, W_in) = X.shape\n",
        "        self.cache = X\n",
        "        C_out, H_out, W_out = C_in, (H_in-self.kernel_size)//self.stride + 1, (W_in-self.kernel_size)//self.stride+1\n",
        "        # output = Parallel(n_jobs=2)(delayed(self.forward_helper)(h, w, X) for h in range(H_out) for w in range(W_out))\n",
        "        # output = np.reshape(np.concatenate(output, axis=2), newshape=(N, C_in, H_out, W_out))\n",
        "        output = np.zeros((N, C_out, H_out, H_out))\n",
        "        ## iterating over the output axises\n",
        "        for h in range(H_out):\n",
        "            for w in range(W_out):\n",
        "                ### input to consider\n",
        "                h_start, h_end = h * self.stride, h * self.stride + self.kernel_size\n",
        "                w_start, w_end = w * self.stride, w * self.stride + self.kernel_size\n",
        "                input_slice = X[:, :, h_start:h_end, w_start:w_end] ## B * C_in * kernel_size * kernel_size\n",
        "                output[:, :, h, w] = np.max(input_slice.reshape(N, C_in, -1), axis=2)\n",
        "                    \n",
        "        return output\n",
        "    \n",
        "    def backward(self, delY):\n",
        "        ## delY => N * C * H_out * W_out ||| delX => N * C * H_in * W_in\n",
        "        (N, C_out, H_out, W_out) = delY.shape\n",
        "        output = np.zeros(self.cache.shape) ## shape of input to this layer\n",
        "        ## iterating over the output\n",
        "        # for channel in range(C_out):\n",
        "        for h in range(H_out):\n",
        "            for w in range(W_out):\n",
        "                ### input to consider\n",
        "                h_start, h_end = h * self.stride, h * self.stride + self.kernel_size\n",
        "                w_start, w_end = w * self.stride, w * self.stride + self.kernel_size\n",
        "                input_slice = self.cache[:, :, h_start:h_end, w_start:w_end] ## input which computed this output ||| B * C * K * K \n",
        "                max_value = np.max(input_slice.reshape(N, C_out, -1), axis=2) ### (B, C) max_value per batch in this window\n",
        "                ## [TODO] What if multiple max values exist ?\n",
        "                max_mask = ( input_slice == max_value.reshape((-1, C_out, 1, 1)))  ### B * C *  K * K ### mask indicating presence of max value\n",
        "                output[:, :, h_start:h_end, w_start:w_end] = max_mask.astype(np.int32) * delY[:, :, h, w].reshape((-1, C_out, 1, 1))  ### B * C *  K * K\n",
        "        return output\n",
        "   \n",
        "\n",
        "class Conv2D():\n",
        "    \n",
        "    def __init__(self, kernel_size, stride, in_channels, num_filters, learning_rate):\n",
        "        self.kernel_size = kernel_size\n",
        "        self.stride = stride\n",
        "        self.in_channels = in_channels\n",
        "        self.num_filters = num_filters\n",
        "        self.W = np.random.uniform(low=-0.1, high=+0.1, size=(num_filters, in_channels, kernel_size, kernel_size)) ### C_out * C_in * K * K\n",
        "        self.b = np.zeros(shape=(num_filters,)) ## C_out, ||| one bias per output filter\n",
        "        self.learning_rate = learning_rate\n",
        "        self.W_optimizer = AdamOptimizer(shape=self.W.shape, alpha=learning_rate)\n",
        "        self.b_optimizer = AdamOptimizer(shape=self.b.shape, alpha=learning_rate) \n",
        "\n",
        "    \n",
        "    def forward(self, X):\n",
        "        ### X => N * C * H * W\n",
        "        self.cache = X\n",
        "        (N, C_in, H_in, W_in) = X.shape\n",
        "        C_out, H_out, W_out = self.num_filters, (H_in-self.kernel_size)//self.stride + 1, (W_in-self.kernel_size)//self.stride+1\n",
        "        output = np.zeros(shape=(N, C_out, H_out, W_out))\n",
        "        ### iterating over the output\n",
        "        for h in range(H_out):\n",
        "            for w in range(W_out):\n",
        "                ### input to consider\n",
        "                h_start, h_end = h * self.stride, h * self.stride + self.kernel_size\n",
        "                w_start, w_end = w * self.stride, w * self.stride + self.kernel_size\n",
        "                input_slice = X[:, :, h_start:h_end, w_start:w_end] ## B * C_in * K * K\n",
        "                                    ### C_out * C_in * K * K              B * 1 * C_in * K * K => B * C_out * C_in * K * K \n",
        "                output[:, :, h, w] = np.sum( (self.W[:, :, :, :] * np.expand_dims(input_slice, axis=1)).reshape(N, C_out, -1), axis=2) + self.b ## B, C_out\n",
        "                    \n",
        "        return output\n",
        "    \n",
        "    \n",
        "    def backward(self, delY):\n",
        "        ### delY => N * C_out *  H_out * W_out\n",
        "        (N, C_out, H_out, W_out) = delY.shape\n",
        "        output = np.zeros(self.cache.shape) ### delX\n",
        "                        ### shift the C_out to the zeroth axis \n",
        "        \n",
        "        self.b_grad = np.sum(np.moveaxis(delY, source=1, destination=0).reshape(C_out, -1), axis=1) ### for each channel sum all the gradient values\n",
        "        \n",
        "        self.W_grad = np.zeros(shape=self.W.shape) ### C_out * C_in * K * K\n",
        "        for h in range(H_out):\n",
        "            for w in range(W_out):\n",
        "                ### input to consider\n",
        "                h_start, h_end = h * self.stride, h * self.stride + self.kernel_size\n",
        "                w_start, w_end = w * self.stride, w * self.stride + self.kernel_size\n",
        "                input_slice = self.cache[:, :, h_start:h_end, w_start:w_end] ## B * C_in * K * K\n",
        "                ## C_out * C_in * K * K            B * _ * C_in * K * K  ||| B, C_out , _1_, _1_, _1_\n",
        "                self.W_grad[:, :, :, :] += np.sum(np.expand_dims(input_slice, axis=1) * (delY[:, :, h, w].reshape(N, C_out, 1, 1, 1)), axis=0)\n",
        "                ## B * C_in * K * K                               C_out * C_in * K * K  ||| B, C_out, 1, 1  ==>  _1_ * C_out * C_in * K * K  || B * C_out * _1_ * 1 * 1 => then sum across outputs channels\n",
        "                output[:, :, h_start:h_end, w_start:w_end] += np.sum(np.expand_dims(self.W[:, :, :, :], axis=0) * delY[:, :, h, w].reshape(N, C_out, 1, 1, 1), axis=1)\n",
        "    \n",
        "        return output\n",
        "    \n",
        "    def update(self):\n",
        "        self.W = self.W_optimizer.update(self.W, self.W_grad)\n",
        "        self.b = self.b_optimizer.update(self.b, self.b_grad)\n",
        "                    \n",
        "            "
      ]
    },
    {
      "cell_type": "code",
      "execution_count": 58,
      "metadata": {
        "id": "aruvLe0ryJ5w"
      },
      "outputs": [],
      "source": [
        "### DEFINE THE CNN\n",
        "class CNN():\n",
        "    \n",
        "    def __init__(self, NUM_CLASSES=10, learning_rate=1e-2):\n",
        "        \n",
        "        self.NUM_CLASSES = NUM_CLASSES\n",
        "        self.learning_rate = learning_rate\n",
        "        \n",
        "        self.conv1 = Conv2D(kernel_size=3, stride=1, in_channels=3, num_filters=32, learning_rate=learning_rate)\n",
        "        self.ReLU1 = ReLU()\n",
        "        self.pool1 = MaxPool2D(kernel_size=2, stride=2)\n",
        "        \n",
        "        self.conv2 = Conv2D(kernel_size=5, stride=1, in_channels=32, num_filters=64, learning_rate=learning_rate)\n",
        "        self.ReLU2 = ReLU()\n",
        "        self.pool2 = MaxPool2D(kernel_size=2, stride=2)\n",
        "        \n",
        "        self.conv3 = Conv2D(kernel_size=3, stride=1, in_channels=64, num_filters=64, learning_rate=learning_rate)\n",
        "        self.ReLU3 = ReLU()\n",
        "        \n",
        "        self.flatten = Flatten()\n",
        "        \n",
        "        self.FC1 = Linear(in_features=3*3*64, out_features=64, learning_rate=learning_rate)\n",
        "        self.ReLU4 = ReLU()\n",
        "        \n",
        "        self.FC2 = Linear(in_features=64, out_features=NUM_CLASSES, learning_rate=learning_rate)\n",
        "        self.softmax = SoftMax()\n",
        "    \n",
        "    def forward(self, X):\n",
        "        ### X is M * C * H * W\n",
        "        X = self.conv1.forward(X)\n",
        "        X = self.ReLU1.forward(X)\n",
        "        X = self.pool1.forward(X)\n",
        "        \n",
        "        X = self.conv2.forward(X)\n",
        "        X = self.ReLU2.forward(X)\n",
        "        X = self.pool2.forward(X)\n",
        "        \n",
        "        X = self.conv3.forward(X)\n",
        "        X = self.ReLU3.forward(X)\n",
        "        \n",
        "        X = self.flatten.forward(X)\n",
        "        \n",
        "        X = self.FC1.forward(X)\n",
        "        X = self.ReLU4.forward(X)\n",
        "        \n",
        "        X = self.FC2.forward(X)\n",
        "        X = self.softmax.forward(X)\n",
        "        \n",
        "        return X\n",
        "    \n",
        "    def backward(self, dep_prob):\n",
        "        ### del_prob => M * NUM_CLASSES => each term is gradient wrt loss\n",
        "        delJ = self.softmax.backward(dep_prob)\n",
        "        delJ = self.FC2.backward(delJ)\n",
        "        \n",
        "        delJ = self.ReLU4.backward(delJ)\n",
        "        delJ = self.FC1.backward(delJ)\n",
        "        \n",
        "        delJ = self.flatten.backward(delJ)\n",
        "        \n",
        "        delJ = self.ReLU3.backward(delJ)\n",
        "        delJ = self.conv3.backward(delJ)\n",
        "        \n",
        "        delJ = self.pool2.backward(delJ)\n",
        "        delJ = self.ReLU2.backward(delJ)\n",
        "        delJ = self.conv2.backward(delJ)\n",
        "        \n",
        "        delJ = self.pool1.backward(delJ)\n",
        "        delJ = self.ReLU1.backward(delJ)\n",
        "        delJ = self.conv1.backward(delJ)\n",
        "        \n",
        "    def update_weights(self):\n",
        "        \n",
        "        self.FC2.update()\n",
        "        self.FC1.update()\n",
        "        self.conv3.update()\n",
        "        self.conv2.update()\n",
        "        self.conv1.update()"
      ]
    },
    {
      "cell_type": "code",
      "execution_count": 62,
      "metadata": {
        "colab": {
          "base_uri": "https://localhost:8080/"
        },
        "id": "jZmUMUL1ySn-",
        "outputId": "b17ebcad-ea4e-4d71-c1a9-8ce4df0f5bc3"
      },
      "outputs": [
        {
          "name": "stderr",
          "output_type": "stream",
          "text": [
            "100%|██████████| 157/157 [05:08<00:00,  1.96s/it]\n"
          ]
        },
        {
          "name": "stdout",
          "output_type": "stream",
          "text": [
            "FINDING TRAINING ACC ... \n"
          ]
        },
        {
          "name": "stderr",
          "output_type": "stream",
          "text": [
            "100%|██████████| 157/157 [02:24<00:00,  1.09it/s]\n"
          ]
        },
        {
          "name": "stdout",
          "output_type": "stream",
          "text": [
            "TESTING ... \n"
          ]
        },
        {
          "name": "stderr",
          "output_type": "stream",
          "text": [
            "100%|██████████| 32/32 [00:28<00:00,  1.12it/s]\n"
          ]
        },
        {
          "name": "stdout",
          "output_type": "stream",
          "text": [
            "Epoch: 1 Train Accuracy: 32.46% ||| Validation Accuracy: 31.90 %\n"
          ]
        },
        {
          "name": "stderr",
          "output_type": "stream",
          "text": [
            "100%|██████████| 157/157 [05:07<00:00,  1.96s/it]\n"
          ]
        },
        {
          "name": "stdout",
          "output_type": "stream",
          "text": [
            "FINDING TRAINING ACC ... \n"
          ]
        },
        {
          "name": "stderr",
          "output_type": "stream",
          "text": [
            "100%|██████████| 157/157 [02:22<00:00,  1.10it/s]\n"
          ]
        },
        {
          "name": "stdout",
          "output_type": "stream",
          "text": [
            "TESTING ... \n"
          ]
        },
        {
          "name": "stderr",
          "output_type": "stream",
          "text": [
            "100%|██████████| 32/32 [00:28<00:00,  1.10it/s]\n"
          ]
        },
        {
          "name": "stdout",
          "output_type": "stream",
          "text": [
            "Epoch: 2 Train Accuracy: 39.56% ||| Validation Accuracy: 37.40 %\n"
          ]
        },
        {
          "name": "stderr",
          "output_type": "stream",
          "text": [
            "100%|██████████| 157/157 [05:06<00:00,  1.95s/it]\n"
          ]
        },
        {
          "name": "stdout",
          "output_type": "stream",
          "text": [
            "FINDING TRAINING ACC ... \n"
          ]
        },
        {
          "name": "stderr",
          "output_type": "stream",
          "text": [
            "100%|██████████| 157/157 [02:21<00:00,  1.11it/s]\n"
          ]
        },
        {
          "name": "stdout",
          "output_type": "stream",
          "text": [
            "TESTING ... \n"
          ]
        },
        {
          "name": "stderr",
          "output_type": "stream",
          "text": [
            "100%|██████████| 32/32 [00:28<00:00,  1.13it/s]\n"
          ]
        },
        {
          "name": "stdout",
          "output_type": "stream",
          "text": [
            "Epoch: 3 Train Accuracy: 43.30% ||| Validation Accuracy: 39.50 %\n"
          ]
        },
        {
          "name": "stderr",
          "output_type": "stream",
          "text": [
            "100%|██████████| 157/157 [05:04<00:00,  1.94s/it]\n"
          ]
        },
        {
          "name": "stdout",
          "output_type": "stream",
          "text": [
            "FINDING TRAINING ACC ... \n"
          ]
        },
        {
          "name": "stderr",
          "output_type": "stream",
          "text": [
            "100%|██████████| 157/157 [02:22<00:00,  1.10it/s]\n"
          ]
        },
        {
          "name": "stdout",
          "output_type": "stream",
          "text": [
            "TESTING ... \n"
          ]
        },
        {
          "name": "stderr",
          "output_type": "stream",
          "text": [
            "100%|██████████| 32/32 [00:28<00:00,  1.10it/s]\n"
          ]
        },
        {
          "name": "stdout",
          "output_type": "stream",
          "text": [
            "Epoch: 4 Train Accuracy: 46.62% ||| Validation Accuracy: 42.20 %\n"
          ]
        },
        {
          "name": "stderr",
          "output_type": "stream",
          "text": [
            "100%|██████████| 157/157 [05:04<00:00,  1.94s/it]\n"
          ]
        },
        {
          "name": "stdout",
          "output_type": "stream",
          "text": [
            "FINDING TRAINING ACC ... \n"
          ]
        },
        {
          "name": "stderr",
          "output_type": "stream",
          "text": [
            "100%|██████████| 157/157 [02:25<00:00,  1.08it/s]\n"
          ]
        },
        {
          "name": "stdout",
          "output_type": "stream",
          "text": [
            "TESTING ... \n"
          ]
        },
        {
          "name": "stderr",
          "output_type": "stream",
          "text": [
            "100%|██████████| 32/32 [00:29<00:00,  1.10it/s]\n"
          ]
        },
        {
          "name": "stdout",
          "output_type": "stream",
          "text": [
            "Epoch: 5 Train Accuracy: 48.78% ||| Validation Accuracy: 44.60 %\n"
          ]
        },
        {
          "name": "stderr",
          "output_type": "stream",
          "text": [
            "100%|██████████| 157/157 [05:08<00:00,  1.96s/it]\n"
          ]
        },
        {
          "name": "stdout",
          "output_type": "stream",
          "text": [
            "FINDING TRAINING ACC ... \n"
          ]
        },
        {
          "name": "stderr",
          "output_type": "stream",
          "text": [
            "100%|██████████| 157/157 [02:28<00:00,  1.06it/s]\n"
          ]
        },
        {
          "name": "stdout",
          "output_type": "stream",
          "text": [
            "TESTING ... \n"
          ]
        },
        {
          "name": "stderr",
          "output_type": "stream",
          "text": [
            "100%|██████████| 32/32 [00:31<00:00,  1.00it/s]\n"
          ]
        },
        {
          "name": "stdout",
          "output_type": "stream",
          "text": [
            "Epoch: 6 Train Accuracy: 50.52% ||| Validation Accuracy: 45.30 %\n"
          ]
        },
        {
          "name": "stderr",
          "output_type": "stream",
          "text": [
            "100%|██████████| 157/157 [05:06<00:00,  1.95s/it]\n"
          ]
        },
        {
          "name": "stdout",
          "output_type": "stream",
          "text": [
            "FINDING TRAINING ACC ... \n"
          ]
        },
        {
          "name": "stderr",
          "output_type": "stream",
          "text": [
            "100%|██████████| 157/157 [02:20<00:00,  1.11it/s]\n"
          ]
        },
        {
          "name": "stdout",
          "output_type": "stream",
          "text": [
            "TESTING ... \n"
          ]
        },
        {
          "name": "stderr",
          "output_type": "stream",
          "text": [
            "100%|██████████| 32/32 [00:28<00:00,  1.14it/s]\n"
          ]
        },
        {
          "name": "stdout",
          "output_type": "stream",
          "text": [
            "Epoch: 7 Train Accuracy: 52.80% ||| Validation Accuracy: 45.90 %\n"
          ]
        },
        {
          "name": "stderr",
          "output_type": "stream",
          "text": [
            "100%|██████████| 157/157 [05:11<00:00,  1.98s/it]\n"
          ]
        },
        {
          "name": "stdout",
          "output_type": "stream",
          "text": [
            "FINDING TRAINING ACC ... \n"
          ]
        },
        {
          "name": "stderr",
          "output_type": "stream",
          "text": [
            "100%|██████████| 157/157 [02:20<00:00,  1.11it/s]\n"
          ]
        },
        {
          "name": "stdout",
          "output_type": "stream",
          "text": [
            "TESTING ... \n"
          ]
        },
        {
          "name": "stderr",
          "output_type": "stream",
          "text": [
            "100%|██████████| 32/32 [00:28<00:00,  1.13it/s]\n"
          ]
        },
        {
          "name": "stdout",
          "output_type": "stream",
          "text": [
            "Epoch: 8 Train Accuracy: 54.72% ||| Validation Accuracy: 46.90 %\n"
          ]
        },
        {
          "name": "stderr",
          "output_type": "stream",
          "text": [
            "100%|██████████| 157/157 [05:05<00:00,  1.95s/it]\n"
          ]
        },
        {
          "name": "stdout",
          "output_type": "stream",
          "text": [
            "FINDING TRAINING ACC ... \n"
          ]
        },
        {
          "name": "stderr",
          "output_type": "stream",
          "text": [
            "100%|██████████| 157/157 [02:20<00:00,  1.12it/s]\n"
          ]
        },
        {
          "name": "stdout",
          "output_type": "stream",
          "text": [
            "TESTING ... \n"
          ]
        },
        {
          "name": "stderr",
          "output_type": "stream",
          "text": [
            "100%|██████████| 32/32 [00:28<00:00,  1.14it/s]\n"
          ]
        },
        {
          "name": "stdout",
          "output_type": "stream",
          "text": [
            "Epoch: 9 Train Accuracy: 56.86% ||| Validation Accuracy: 46.90 %\n"
          ]
        },
        {
          "name": "stderr",
          "output_type": "stream",
          "text": [
            "100%|██████████| 157/157 [05:12<00:00,  1.99s/it]\n"
          ]
        },
        {
          "name": "stdout",
          "output_type": "stream",
          "text": [
            "FINDING TRAINING ACC ... \n"
          ]
        },
        {
          "name": "stderr",
          "output_type": "stream",
          "text": [
            "100%|██████████| 157/157 [02:22<00:00,  1.10it/s]\n"
          ]
        },
        {
          "name": "stdout",
          "output_type": "stream",
          "text": [
            "TESTING ... \n"
          ]
        },
        {
          "name": "stderr",
          "output_type": "stream",
          "text": [
            "100%|██████████| 32/32 [00:29<00:00,  1.08it/s]\n"
          ]
        },
        {
          "name": "stdout",
          "output_type": "stream",
          "text": [
            "Epoch: 10 Train Accuracy: 58.88% ||| Validation Accuracy: 47.00 %\n"
          ]
        },
        {
          "name": "stderr",
          "output_type": "stream",
          "text": [
            "100%|██████████| 157/157 [05:08<00:00,  1.97s/it]\n"
          ]
        },
        {
          "name": "stdout",
          "output_type": "stream",
          "text": [
            "FINDING TRAINING ACC ... \n"
          ]
        },
        {
          "name": "stderr",
          "output_type": "stream",
          "text": [
            "100%|██████████| 157/157 [02:22<00:00,  1.10it/s]\n"
          ]
        },
        {
          "name": "stdout",
          "output_type": "stream",
          "text": [
            "TESTING ... \n"
          ]
        },
        {
          "name": "stderr",
          "output_type": "stream",
          "text": [
            "100%|██████████| 32/32 [00:29<00:00,  1.07it/s]\n"
          ]
        },
        {
          "name": "stdout",
          "output_type": "stream",
          "text": [
            "Epoch: 11 Train Accuracy: 60.54% ||| Validation Accuracy: 47.70 %\n"
          ]
        },
        {
          "name": "stderr",
          "output_type": "stream",
          "text": [
            "100%|██████████| 157/157 [05:17<00:00,  2.02s/it]\n"
          ]
        },
        {
          "name": "stdout",
          "output_type": "stream",
          "text": [
            "FINDING TRAINING ACC ... \n"
          ]
        },
        {
          "name": "stderr",
          "output_type": "stream",
          "text": [
            "100%|██████████| 157/157 [02:32<00:00,  1.03it/s]\n"
          ]
        },
        {
          "name": "stdout",
          "output_type": "stream",
          "text": [
            "TESTING ... \n"
          ]
        },
        {
          "name": "stderr",
          "output_type": "stream",
          "text": [
            "100%|██████████| 32/32 [00:30<00:00,  1.04it/s]\n"
          ]
        },
        {
          "name": "stdout",
          "output_type": "stream",
          "text": [
            "Epoch: 12 Train Accuracy: 62.86% ||| Validation Accuracy: 48.50 %\n"
          ]
        },
        {
          "name": "stderr",
          "output_type": "stream",
          "text": [
            "100%|██████████| 157/157 [05:49<00:00,  2.23s/it]\n"
          ]
        },
        {
          "name": "stdout",
          "output_type": "stream",
          "text": [
            "FINDING TRAINING ACC ... \n"
          ]
        },
        {
          "name": "stderr",
          "output_type": "stream",
          "text": [
            "100%|██████████| 157/157 [02:37<00:00,  1.00s/it]\n"
          ]
        },
        {
          "name": "stdout",
          "output_type": "stream",
          "text": [
            "TESTING ... \n"
          ]
        },
        {
          "name": "stderr",
          "output_type": "stream",
          "text": [
            "100%|██████████| 32/32 [00:32<00:00,  1.03s/it]\n"
          ]
        },
        {
          "name": "stdout",
          "output_type": "stream",
          "text": [
            "Epoch: 13 Train Accuracy: 64.76% ||| Validation Accuracy: 48.60 %\n"
          ]
        },
        {
          "name": "stderr",
          "output_type": "stream",
          "text": [
            "100%|██████████| 157/157 [05:35<00:00,  2.13s/it]\n"
          ]
        },
        {
          "name": "stdout",
          "output_type": "stream",
          "text": [
            "FINDING TRAINING ACC ... \n"
          ]
        },
        {
          "name": "stderr",
          "output_type": "stream",
          "text": [
            "100%|██████████| 157/157 [02:46<00:00,  1.06s/it]\n"
          ]
        },
        {
          "name": "stdout",
          "output_type": "stream",
          "text": [
            "TESTING ... \n"
          ]
        },
        {
          "name": "stderr",
          "output_type": "stream",
          "text": [
            "100%|██████████| 32/32 [00:32<00:00,  1.00s/it]\n"
          ]
        },
        {
          "name": "stdout",
          "output_type": "stream",
          "text": [
            "Epoch: 14 Train Accuracy: 66.04% ||| Validation Accuracy: 48.90 %\n"
          ]
        },
        {
          "name": "stderr",
          "output_type": "stream",
          "text": [
            "100%|██████████| 157/157 [05:36<00:00,  2.14s/it]\n"
          ]
        },
        {
          "name": "stdout",
          "output_type": "stream",
          "text": [
            "FINDING TRAINING ACC ... \n"
          ]
        },
        {
          "name": "stderr",
          "output_type": "stream",
          "text": [
            "100%|██████████| 157/157 [02:37<00:00,  1.00s/it]\n"
          ]
        },
        {
          "name": "stdout",
          "output_type": "stream",
          "text": [
            "TESTING ... \n"
          ]
        },
        {
          "name": "stderr",
          "output_type": "stream",
          "text": [
            "100%|██████████| 32/32 [00:31<00:00,  1.02it/s]\n"
          ]
        },
        {
          "name": "stdout",
          "output_type": "stream",
          "text": [
            "Epoch: 15 Train Accuracy: 67.34% ||| Validation Accuracy: 49.00 %\n"
          ]
        },
        {
          "name": "stderr",
          "output_type": "stream",
          "text": [
            "100%|██████████| 157/157 [05:27<00:00,  2.09s/it]\n"
          ]
        },
        {
          "name": "stdout",
          "output_type": "stream",
          "text": [
            "FINDING TRAINING ACC ... \n"
          ]
        },
        {
          "name": "stderr",
          "output_type": "stream",
          "text": [
            "100%|██████████| 157/157 [02:48<00:00,  1.08s/it]\n"
          ]
        },
        {
          "name": "stdout",
          "output_type": "stream",
          "text": [
            "TESTING ... \n"
          ]
        },
        {
          "name": "stderr",
          "output_type": "stream",
          "text": [
            "100%|██████████| 32/32 [00:32<00:00,  1.02s/it]\n"
          ]
        },
        {
          "name": "stdout",
          "output_type": "stream",
          "text": [
            "Epoch: 16 Train Accuracy: 69.38% ||| Validation Accuracy: 48.40 %\n"
          ]
        },
        {
          "name": "stderr",
          "output_type": "stream",
          "text": [
            "100%|██████████| 157/157 [05:51<00:00,  2.24s/it]\n"
          ]
        },
        {
          "name": "stdout",
          "output_type": "stream",
          "text": [
            "FINDING TRAINING ACC ... \n"
          ]
        },
        {
          "name": "stderr",
          "output_type": "stream",
          "text": [
            "100%|██████████| 157/157 [02:31<00:00,  1.04it/s]\n"
          ]
        },
        {
          "name": "stdout",
          "output_type": "stream",
          "text": [
            "TESTING ... \n"
          ]
        },
        {
          "name": "stderr",
          "output_type": "stream",
          "text": [
            "100%|██████████| 32/32 [00:37<00:00,  1.16s/it]\n"
          ]
        },
        {
          "name": "stdout",
          "output_type": "stream",
          "text": [
            "Epoch: 17 Train Accuracy: 70.84% ||| Validation Accuracy: 48.60 %\n"
          ]
        },
        {
          "name": "stderr",
          "output_type": "stream",
          "text": [
            "100%|██████████| 157/157 [05:56<00:00,  2.27s/it]\n"
          ]
        },
        {
          "name": "stdout",
          "output_type": "stream",
          "text": [
            "FINDING TRAINING ACC ... \n"
          ]
        },
        {
          "name": "stderr",
          "output_type": "stream",
          "text": [
            "100%|██████████| 157/157 [02:40<00:00,  1.02s/it]\n"
          ]
        },
        {
          "name": "stdout",
          "output_type": "stream",
          "text": [
            "TESTING ... \n"
          ]
        },
        {
          "name": "stderr",
          "output_type": "stream",
          "text": [
            "100%|██████████| 32/32 [00:33<00:00,  1.05s/it]\n"
          ]
        },
        {
          "name": "stdout",
          "output_type": "stream",
          "text": [
            "Epoch: 18 Train Accuracy: 72.84% ||| Validation Accuracy: 48.80 %\n"
          ]
        },
        {
          "name": "stderr",
          "output_type": "stream",
          "text": [
            "100%|██████████| 157/157 [05:45<00:00,  2.20s/it]\n"
          ]
        },
        {
          "name": "stdout",
          "output_type": "stream",
          "text": [
            "FINDING TRAINING ACC ... \n"
          ]
        },
        {
          "name": "stderr",
          "output_type": "stream",
          "text": [
            "100%|██████████| 157/157 [02:41<00:00,  1.03s/it]\n"
          ]
        },
        {
          "name": "stdout",
          "output_type": "stream",
          "text": [
            "TESTING ... \n"
          ]
        },
        {
          "name": "stderr",
          "output_type": "stream",
          "text": [
            "100%|██████████| 32/32 [00:32<00:00,  1.01s/it]\n"
          ]
        },
        {
          "name": "stdout",
          "output_type": "stream",
          "text": [
            "Epoch: 19 Train Accuracy: 74.28% ||| Validation Accuracy: 49.10 %\n"
          ]
        },
        {
          "name": "stderr",
          "output_type": "stream",
          "text": [
            "100%|██████████| 157/157 [05:50<00:00,  2.23s/it]\n"
          ]
        },
        {
          "name": "stdout",
          "output_type": "stream",
          "text": [
            "FINDING TRAINING ACC ... \n"
          ]
        },
        {
          "name": "stderr",
          "output_type": "stream",
          "text": [
            "100%|██████████| 157/157 [02:48<00:00,  1.07s/it]\n"
          ]
        },
        {
          "name": "stdout",
          "output_type": "stream",
          "text": [
            "TESTING ... \n"
          ]
        },
        {
          "name": "stderr",
          "output_type": "stream",
          "text": [
            "100%|██████████| 32/32 [00:32<00:00,  1.02s/it]"
          ]
        },
        {
          "name": "stdout",
          "output_type": "stream",
          "text": [
            "Epoch: 20 Train Accuracy: 75.84% ||| Validation Accuracy: 49.60 %\n"
          ]
        },
        {
          "name": "stderr",
          "output_type": "stream",
          "text": [
            "\n"
          ]
        }
      ],
      "source": [
        "### TRAINING SCRIPT\n",
        "### PARAMS\n",
        "BATCH_SIZE = 32\n",
        "NUM_CLASSES = 10\n",
        "LEARNING_RATE = 3e-4\n",
        "NUM_EPOCHS = 20\n",
        "PRINT_INTERVAL = 2000\n",
        "SMOOTHING_FACTOR = 0.9\n",
        "\n",
        "dataset = Dataset(\"./cifar-10-batches-py\", batch_size=BATCH_SIZE, sample_interval=10)\n",
        "model = CNN(NUM_CLASSES=NUM_CLASSES, learning_rate=LEARNING_RATE)\n",
        "\n",
        "training_accuracy = []\n",
        "validation_accuracy = []\n",
        "training_loss = []\n",
        "val_loss = []\n",
        "\n",
        "for epoch in range(NUM_EPOCHS):\n",
        "    ## TRAINING\n",
        "    for batch_idx in tqdm(range(dataset.num_train_batches)):\n",
        "        X, y = dataset.train_batch(batch_idx)\n",
        "        batch_size = X.shape[0]\n",
        "        one_hot = np.zeros((y.shape[0], NUM_CLASSES))\n",
        "        one_hot[np.arange(y.shape[0]), y] = 1\n",
        "        prob = model.forward(X)\n",
        "        loss = np.sum ( -1 * np.log(prob) * one_hot ) / batch_size\n",
        "        training_loss.append(loss)\n",
        "        del_prob = -1 * one_hot / prob\n",
        "        del_prob /= batch_size\n",
        "        model.backward(del_prob)\n",
        "        model.update_weights()\n",
        "\n",
        "    ## TRAINING ACC\n",
        "    print(\"FINDING TRAINING ACC ... \")\n",
        "    train_correct = 0\n",
        "    for batch_idx in tqdm(range(dataset.num_train_batches)):\n",
        "        X, y = dataset.train_batch(batch_idx)\n",
        "        batch_size = X.shape[0]\n",
        "        prob = model.forward(X)\n",
        "        train_correct += np.sum(np.argmax(prob, axis=1) == y)\n",
        "            \n",
        "    ## TESTING ACC\n",
        "    print(\"TESTING ... \")\n",
        "    temp_list = []\n",
        "    test_correct = 0\n",
        "    for batch_idx in tqdm(range(dataset.num_test_batches)):\n",
        "        X, y = dataset.test_batch(batch_idx)\n",
        "        batch_size = X.shape[0]\n",
        "        prob = model.forward(X)\n",
        "        one_hot = np.zeros((y.shape[0], NUM_CLASSES))\n",
        "        one_hot[np.arange(y.shape[0]), y] = 1\n",
        "        loss = np.sum ( -1 * np.log(prob) * one_hot ) / batch_size\n",
        "        temp_list.append(loss)\n",
        "        test_correct += np.sum(np.argmax(prob, axis=1) == y)\n",
        "    val_loss.append(sum(temp_list)/len(temp_list))\n",
        "    training_accuracy.append(train_correct/dataset.num_train_samples*100)\n",
        "    validation_accuracy.append(test_correct/dataset.num_test_samples*100)\n",
        "    print(f\"Epoch: {epoch+1} Train Accuracy: {training_accuracy[-1]:.2f}% ||| Validation Accuracy: {validation_accuracy[-1]:.2f} %\")\n",
        "    "
      ]
    },
    {
      "cell_type": "code",
      "execution_count": 63,
      "metadata": {
        "id": "mJYMAlOryuHm"
      },
      "outputs": [
        {
          "data": {
            "text/plain": [
              "<matplotlib.legend.Legend at 0x7f8b11b6da60>"
            ]
          },
          "execution_count": 63,
          "metadata": {},
          "output_type": "execute_result"
        },
        {
          "data": {
            "image/png": "[encoded data removed]",
            "text/plain": [
              "<Figure size 1200x500 with 1 Axes>"
            ]
          },
          "metadata": {},
          "output_type": "display_data"
        }
      ],
      "source": [
        "## plotting training and validation loss curves\n",
        "plt.figure(figsize=(12,5))\n",
        "plt.plot(training_loss, color=\"orange\", label=\"Training Loss\")\n",
        "plt.plot([(i+1)*dataset.num_train_batches for i in range(NUM_EPOCHS)],val_loss, color=\"red\", label=\"Validation Loss\", marker=\"o\")\n",
        "for i in range(NUM_EPOCHS):\n",
        "    plt.axvline((i+1)*dataset.num_train_batches, 0, max(training_loss), label=None if i < NUM_EPOCHS-1 else \"Epoch End\", color = \"black\", ls =\"--\")\n",
        "plt.grid(True)\n",
        "plt.xlabel(\"Training Updates\")\n",
        "plt.ylabel(\"Loss\")\n",
        "plt.legend()"
      ]
    },
    {
      "cell_type": "code",
      "execution_count": 64,
      "metadata": {},
      "outputs": [
        {
          "data": {
            "text/plain": [
              "<matplotlib.legend.Legend at 0x7f8ac8dd3f40>"
            ]
          },
          "execution_count": 64,
          "metadata": {},
          "output_type": "execute_result"
        },
        {
          "data": {
            "image/png": "[encoded data removed]",
            "text/plain": [
              "<Figure size 640x480 with 1 Axes>"
            ]
          },
          "metadata": {},
          "output_type": "display_data"
        }
      ],
      "source": [
        "plt.plot(training_accuracy, label = \"Training Accuracy\", color =\"orange\", marker=\"X\")\n",
        "plt.plot(validation_accuracy, label=\"Valdiation Accuracy\", color=\"red\", marker=\"x\")\n",
        "plt.grid(True)\n",
        "plt.xlabel(\"Number of Epochs\")\n",
        "plt.ylabel(\"Accuracy\")\n",
        "plt.legend()"
      ]
    },
    {
      "cell_type": "code",
      "execution_count": 65,
      "metadata": {},
      "outputs": [
        {
          "name": "stdout",
          "output_type": "stream",
          "text": [
            "plane 87.18 %\n",
            "car 89.41 %\n",
            "bird 60.79 %\n",
            "cat 51.95 %\n",
            "deer 83.04 %\n",
            "dog 90.75 %\n",
            "frog 77.30 %\n",
            "horse 53.16 %\n",
            "ship 83.44 %\n",
            "truck 78.86 %\n"
          ]
        }
      ],
      "source": [
        "## TRAINING SET ACCURACIES\n",
        "correct = [0 for _ in range(NUM_CLASSES)]\n",
        "total = [0 for _ in range(NUM_CLASSES)]\n",
        "total_batches = dataset.num_train_batches\n",
        "for batch_idx in range(total_batches):\n",
        "    X, y = dataset.train_batch(batch_idx)\n",
        "    batch_size = X.shape[0]\n",
        "    prob = model.forward(X)\n",
        "    pred = np.argmax(prob, axis=1)\n",
        "    for idx in range(batch_size):\n",
        "        total[y[idx]] += 1\n",
        "        correct[y[idx]] += 1 if pred[idx] == y[idx] else 0\n",
        "\n",
        "for idx in range(NUM_CLASSES):\n",
        "    print(classes[idx], f\"{correct[idx]/total[idx]*100:.2f} %\")\n",
        "\n",
        "        "
      ]
    },
    {
      "cell_type": "code",
      "execution_count": 66,
      "metadata": {},
      "outputs": [
        {
          "name": "stdout",
          "output_type": "stream",
          "text": [
            "plane 67.82 %\n",
            "car 60.00 %\n",
            "bird 40.74 %\n",
            "cat 27.10 %\n",
            "deer 50.53 %\n",
            "dog 62.11 %\n",
            "frog 52.00 %\n",
            "horse 31.37 %\n",
            "ship 60.78 %\n",
            "truck 49.04 %\n"
          ]
        }
      ],
      "source": [
        "## TESTING SET ACCURACIES\n",
        "correct = [0 for _ in range(NUM_CLASSES)]\n",
        "total = [0 for _ in range(NUM_CLASSES)]\n",
        "total_batches = dataset.num_test_batches\n",
        "for batch_idx in range(total_batches):\n",
        "    X, y = dataset.test_batch(batch_idx)\n",
        "    batch_size = X.shape[0]\n",
        "    prob = model.forward(X)\n",
        "    pred = np.argmax(prob, axis=1)\n",
        "    for idx in range(batch_size):\n",
        "        total[y[idx]] += 1\n",
        "        correct[y[idx]] += 1 if pred[idx] == y[idx] else 0\n",
        "\n",
        "for idx in range(NUM_CLASSES):\n",
        "    print(classes[idx], f\"{correct[idx]/total[idx]*100:.2f} %\")"
      ]
    },
    {
      "cell_type": "code",
      "execution_count": null,
      "metadata": {},
      "outputs": [],
      "source": []
    }
  ],
  "metadata": {
    "colab": {
      "provenance": []
    },
    "gpuClass": "standard",
    "kernelspec": {
      "display_name": "Python 3",
      "name": "python3"
    },
    "language_info": {
      "codemirror_mode": {
        "name": "ipython",
        "version": 3
      },
      "file_extension": ".py",
      "mimetype": "text/x-python",
      "name": "python",
      "nbconvert_exporter": "python",
      "pygments_lexer": "ipython3",
      "version": "3.9.16"
    }
  },
  "nbformat": 4,
  "nbformat_minor": 0
}
